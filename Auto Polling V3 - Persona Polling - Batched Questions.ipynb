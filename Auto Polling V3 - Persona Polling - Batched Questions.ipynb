{
 "cells": [
  {
   "cell_type": "code",
   "execution_count": 25,
   "id": "f4ebe324",
   "metadata": {},
   "outputs": [],
   "source": [
    "import os\n",
    "import glob\n",
    "import json\n",
    "import Utils.Chat_GPT_Funcs as GPT\n",
    "import concurrent.futures\n",
    "import os\n",
    "import string\n",
    "import tiktoken"
   ]
  },
  {
   "cell_type": "markdown",
   "id": "9515dc49",
   "metadata": {},
   "source": [
    "# Load in the 343 Personas that mimic the study done"
   ]
  },
  {
   "cell_type": "code",
   "execution_count": 26,
   "id": "6c6197d5",
   "metadata": {},
   "outputs": [
    {
     "name": "stdout",
     "output_type": "stream",
     "text": [
      "Total Personas: 343\n"
     ]
    }
   ],
   "source": [
    "# Open the JSON file in read mode and load its contents\n",
    "file_path = \"new_personas_343_shortened_ind.json\"\n",
    "with open(file_path, \"r\") as json_file:\n",
    "    personas = json.load(json_file)\n",
    "    \n",
    "#personas = personas[:3]\n",
    "print(\"Total Personas:\", len(personas))"
   ]
  },
  {
   "cell_type": "code",
   "execution_count": 27,
   "id": "04af1a14",
   "metadata": {},
   "outputs": [
    {
     "data": {
      "text/plain": [
       "{'Name': 'Jeremy Harris',\n",
       " 'Age': '75',\n",
       " 'Ethnicity': 'White',\n",
       " 'Gender': 'Male',\n",
       " 'Income': '2200',\n",
       " 'Education Level': \"Bachelor's Degree or Higher\",\n",
       " 'Political Affiliation': 'Right Leaning',\n",
       " 'Geographic Location': 'Urban Montana, United States',\n",
       " 'Veteran Status': 'Not a Veteran',\n",
       " 'Occupation': 'Retired Business Executive.',\n",
       " 'Media Consumption': 'As an expert in market research, I recommend the following media outlets for Jeremy Harris, based on his demographic information:\\n\\n1. Fox News - aligned with his right-leaning political affiliation.\\n2. The Wall Street Journal - trusted for financial news and economic analysis.\\n3. The Drudge Report - known for conservative-leaning news coverage.\\n4. The Washington Times - a right-leaning news source.\\n\\nJeremy Harris, a retired business executive, may consume 2-3 hours of media per day, given his age and geographic location.',\n",
       " 'Voting History': 'As for me, I have consistently voted in the past, usually for candidates who share my right-leaning political views - advocating for smaller government, lower taxes, and a robust economy. Nevertheless, I have also voted for candidates from different parties when I felt they better represented my values and interests.',\n",
       " 'Group Membership': \"As a retired business executive, I don't belong to any professional groups right now. However, I identify as leaning towards the Republican Party and supporting social causes like veterans' rights and senior healthcare. Though I'm not involved in any social organizations, I donate to charities that help these causes.\",\n",
       " 'Influential Figures': \"As an expert writer, I admire and respect certain politicians and thought leaders. Ronald Reagan stands out as a great leader and advocate for conservative principles. Similarly, Thomas Sowell's brilliance as an economist and social theorist commands my respect. I prioritize politicians who prioritize veterans' rights and benefits, as I greatly admire their sacrifices.\",\n",
       " 'Personal Anecdotes': 'As a successful business executive, I have been able to provide for my family and live comfortably. My belief in conservative principles, including smaller government, lower taxes, and a strong economy, is strong. I believe that these principles are critical for the success of our country and the well-being of its citizens. Furthermore, I prioritize the rights and benefits of veterans and tend to support politicians who share this admiration.',\n",
       " 'Future Aspirations/Concerns': \"As an individual with a long and fulfilling life, my future hopes are focused on my family's and community's well-being. I desire my children and grandchildren to continue living happy and healthy lives while our country thrives as a symbol of democracy and freedom globally.\\n\\nHowever, I do have fears for the future. My primary concern is the national debt, which may impact future generations negatively. Overspending by our government may lead to economic instability and hardships for many Americans. My other concern is the increasing political polarization that impedes our ability to find common ground on significant issues. As a nation, we need to come together and work towards a brighter future for everyone.\"}"
      ]
     },
     "execution_count": 27,
     "metadata": {},
     "output_type": "execute_result"
    }
   ],
   "source": [
    "personas[75]"
   ]
  },
  {
   "cell_type": "code",
   "execution_count": 29,
   "id": "97e8cda9",
   "metadata": {},
   "outputs": [
    {
     "name": "stdout",
     "output_type": "stream",
     "text": [
      "You will be answering political survey questions as the following persona: {'Name': 'Jeremy Harris', 'Age': '75', 'Ethnicity': 'White', 'Gender': 'Male', 'Income': '2200', 'Education Level': \"Bachelor's Degree or Higher\", 'Political Affiliation': 'Right Leaning', 'Geographic Location': 'Urban Montana, United States', 'Veteran Status': 'Not a Veteran', 'Occupation': 'Retired Business Executive.', 'Media Consumption': 'As an expert in market research, I recommend the following media outlets for Jeremy Harris, based on his demographic information:\\n\\n1. Fox News - aligned with his right-leaning political affiliation.\\n2. The Wall Street Journal - trusted for financial news and economic analysis.\\n3. The Drudge Report - known for conservative-leaning news coverage.\\n4. The Washington Times - a right-leaning news source.\\n\\nJeremy Harris, a retired business executive, may consume 2-3 hours of media per day, given his age and geographic location.', 'Voting History': 'As for me, I have consistently voted in the past, usually for candidates who share my right-leaning political views - advocating for smaller government, lower taxes, and a robust economy. Nevertheless, I have also voted for candidates from different parties when I felt they better represented my values and interests.', 'Group Membership': \"As a retired business executive, I don't belong to any professional groups right now. However, I identify as leaning towards the Republican Party and supporting social causes like veterans' rights and senior healthcare. Though I'm not involved in any social organizations, I donate to charities that help these causes.\", 'Influential Figures': \"As an expert writer, I admire and respect certain politicians and thought leaders. Ronald Reagan stands out as a great leader and advocate for conservative principles. Similarly, Thomas Sowell's brilliance as an economist and social theorist commands my respect. I prioritize politicians who prioritize veterans' rights and benefits, as I greatly admire their sacrifices.\", 'Personal Anecdotes': 'As a successful business executive, I have been able to provide for my family and live comfortably. My belief in conservative principles, including smaller government, lower taxes, and a strong economy, is strong. I believe that these principles are critical for the success of our country and the well-being of its citizens. Furthermore, I prioritize the rights and benefits of veterans and tend to support politicians who share this admiration.', 'Future Aspirations/Concerns': \"As an individual with a long and fulfilling life, my future hopes are focused on my family's and community's well-being. I desire my children and grandchildren to continue living happy and healthy lives while our country thrives as a symbol of democracy and freedom globally.\\n\\nHowever, I do have fears for the future. My primary concern is the national debt, which may impact future generations negatively. Overspending by our government may lead to economic instability and hardships for many Americans. My other concern is the increasing political polarization that impedes our ability to find common ground on significant issues. As a nation, we need to come together and work towards a brighter future for everyone.\"}. \n",
      "\n",
      "Please answer the questions truthfully and based on the persona's beliefs, avoiding any political biases. \n",
      "\n",
      "Answer each question in JSON format with the following labels:\n",
      "\n",
      "    - Reasoning: Explain how the persona's characteristics (age, ethnicity, gender, income, education, political affiliation, etc.) influence their opinion in depth.\n",
      "    - Answer: The decision the persona makes based on their reasoning.\n",
      "    \n",
      "Thank you and good luck!\n",
      "Please answer the following question.\n",
      "Remember you are the person described and should answer the question in the 1st person as them.\n",
      "Please Remember to answer in JSON format!\n",
      "Question = Do you think transgender people should be able to change the sex on their birth certificate? \n",
      " Yes\n",
      " No\n"
     ]
    }
   ],
   "source": [
    "persona_role = GPT.open_file(f\"Prompts/Polling/persona_gpt.txt\").replace('<<PERSONA>>', str(personas[75]))\n",
    "q = \"Do you think transgender people should be able to change the sex on their birth certificate? \\n Yes\\n No\"\n",
    "question_in = GPT.open_file(\"Prompts/Polling/question_in.txt\").replace('<<QUESTION>>', q)\n",
    "print(persona_role)\n",
    "print(question_in)"
   ]
  },
  {
   "cell_type": "markdown",
   "id": "9e0bf77b",
   "metadata": {},
   "source": [
    "# Load the survey questions\n",
    "    - Using questions from phone interview"
   ]
  },
  {
   "cell_type": "code",
   "execution_count": 4,
   "id": "b5fe806a",
   "metadata": {},
   "outputs": [],
   "source": [
    "class Question:\n",
    "    def __init__(self, number, question, possible_responses):\n",
    "        self.number = number\n",
    "        self.question = question\n",
    "        self.possible_responses = possible_responses\n",
    "\n",
    "    def format_for_gpt(self):\n",
    "        formatted_question = self.question + '\\n'\n",
    "        formatted_responses = '\\n'.join(self.possible_responses)\n",
    "\n",
    "        return formatted_question + formatted_responses"
   ]
  },
  {
   "cell_type": "code",
   "execution_count": 5,
   "id": "89be9e1f",
   "metadata": {},
   "outputs": [],
   "source": [
    "questions = [\n",
    "    Question(1, \"Do you plan to vote in the 2022 midterm election?\", [\"Yes\", \"No\", \"Neither\"]),\n",
    "    Question(2, \"At this point in time, do you approve or disapprove of President Joe Biden’s performance in office?\", [\"Approve\", \"Disapprove\", \"Neither Approve/Disapprove\"]),\n",
    "    Question(3, \"Do you approve or disapprove of Biden’s student loan forgiveness plan?\", [\"Approve\", \"Disapprove\", \"Neither Approve/Disapprove\"]),\n",
    "    Question(4, \"At this point in time, do you approve or disapprove of the performance of the US Congress?\", [\"Approve\", \"Disapprove\", \"Neither Approve/Disapprove\"]),\n",
    "    Question(5, \"When electing the United States president, do you think we should amend the Constitution to allow the candidate who receives the most votes to win, or do you think we should keep the current system where the candidate who wins the Electoral College vote wins?\", [\"Amend the Constitution\", \"Keep the current system\"]),\n",
    "    Question(6, \"At this point in time, do you approve or disapprove of Governor Greg Gianforte’s job performance?\", [\"Approve\", \"Disapprove\", \"Neither Approve/Disapprove\"]),\n",
    "    Question(7, \"Gianforte’s administration recently attempted to implement a rule banning transgender people from changing their designated sex status on their birth certificate. Do you think transgender people should be able to change the sex on their birth certificate?\", [\"Yes\", \"No\", \"Neither Yes/No\"]),\n",
    "    Question(8, \"Are you in US House District 1 or 2?\", [\"District 1\", \"District 2\", \"Don't Know\"]),\n",
    "    Question(9, \"If you had to choose today, which of the following candidates would you choose to support for House Representative in District 1?\", [\"Zinke (R)\",\"Tranel (D)\", \"Lamb (L)\", \"Don't Know\"]),\n",
    "    Question(10, \"At this point in time, do you approve or disapprove of Congressperson Matt Rosendale’s job performance?\", [\"Approve\", \"Disapprove\", \"Neither Approve/Disapprove\"]),\n",
    "    Question(11, \"If you had to choose today, which of the following candidates would you choose to support for House Representative in District 2?\", [\"Rosendale (R)\",\"Ronning (D)\", \"Rankin (L)\", \"Buchanan (I)\", \"Don't Know\"]),\n",
    "    Question(12, \"At this point in time, do you approve or disapprove of Senator Steve Daines’ job performance?\", [\"Approve\", \"Disapprove\", \"Neither Approve/Disapprove\"]),\n",
    "    Question(13, \"At this point in time, do you approve or disapprove of Senator Jon Tester’s job performance?\", [\"Approve\", \"Disapprove\", \"Neither Approve/Disapprove\"]),\n",
    "    Question(14, \"Do you trust your representatives’ ability to govern efficiently and in a non-divisive manner?\", [\"Trust\", \"Distrust\", \"Neither Trust/Distrust\"]),\n",
    "    Question(15, \"Do you trust your local police or sheriff’s department?\", [\"Trust\", \"Distrust\", \"Neither Trust/Distrust\"]),\n",
    "    Question(16, \"Have you heard of the Indian Education for All law?\", [\"Yes\", \"No\", \"Neither Yes/No\"]),\n",
    "    Question(17, \"The Indian Education for All law is based on a Montana constitutional requirement to encourage learning about American Indian culture and history. Do you believe the money from this law is being used effectively to educate the general student body within Montana’s school system?\", [\"Yes\", \"No\", \"Neither Yes/No\"]),\n",
    "    Question(18, \"Do you agree or disagree that there is a mental health crisis in Montana?\", [\"Agree\", \"Disagree\", \"Neither Agree/Disagree\"]),\n",
    "    Question(19, \"Do you agree or disagree that more fun indoor activities could help the depression rate in Montana?\", [\"Agree\", \"Disagree\", \"Neither Agree/Disagree\"]),\n",
    "    Question(20, \"Do you agree or disagree that businesses in your community are struggling to find employees?\", [\"Agree\", \"Disagree\", \"Neither Agree/Disagree\"]),\n",
    "    Question(21, \"Do you agree or disagree that current Montana agricultural practices are environmentally sustainable?\", [\"Agree\", \"Disagree\", \"Neither Agree/Disagree\"]),\n",
    "    Question(22, \"Do you agree or disagree that Montana officials should work to protect public lands?\", [\"Agree\", \"Disagree\", \"Neither Agree/Disagree\"]),\n",
    "    Question(23, \"Do you agree or disagree with the Supreme Court's decision to overturn Roe v. Wade?\", [\"Agree\", \"Disagree\", \"Neither Agree/Disagree\"]),\n",
    "    Question(24, \"When it comes to abortion issues, would you consider yourself to be pro-life or pro-choice?\", [\"Pro-life\", \"Pro-choice\", \"Neither Pro-life/Pro-choice\"]),\n",
    "    Question(25, \"Do you agree or disagree with the efforts to remove potentially controversial books from public schools?\", [\"Agree\", \"Disagree\", \"Neither Agree/Disagree\"]),\n",
    "    Question(26, \"Do you agree or disagree that teachers with a clean background check and training should be allowed to carry a gun in the classroom?\", [\"Agree\", \"Disagree\", \"Neither Agree/Disagree\"]),\n",
    "    Question(27, \"Do you agree or disagree with using the death penalty as punishment for convicted murder?\", [\"Agree\", \"Disagree\", \"Neither Agree/Disagree\"]),\n",
    "    Question(28, \"Do you trust mainstream media?\", [\"Trust\", \"Distrust\", \"Neither Trust/Distrust\"])\n",
    "]\n"
   ]
  },
  {
   "cell_type": "code",
   "execution_count": 6,
   "id": "355daed4",
   "metadata": {},
   "outputs": [
    {
     "data": {
      "text/plain": [
       "13"
      ]
     },
     "execution_count": 6,
     "metadata": {},
     "output_type": "execute_result"
    }
   ],
   "source": [
    "len(questions[:13])"
   ]
  },
  {
   "cell_type": "code",
   "execution_count": 20,
   "id": "b4247a01",
   "metadata": {},
   "outputs": [
    {
     "name": "stdout",
     "output_type": "stream",
     "text": [
      "[{\"number\": 1, \"text\": \"Do you plan to vote in the 2022 midterm election?\", \"possible_responses\": [\"Yes\", \"No\", \"Neither\"]}, {\"number\": 2, \"text\": \"At this point in time, do you approve or disapprove of President Joe Biden\\u2019s performance in office?\", \"possible_responses\": [\"Approve\", \"Disapprove\", \"Neither Approve/Disapprove\"]}, {\"number\": 3, \"text\": \"Do you approve or disapprove of Biden\\u2019s student loan forgiveness plan?\", \"possible_responses\": [\"Approve\", \"Disapprove\", \"Neither Approve/Disapprove\"]}, {\"number\": 4, \"text\": \"At this point in time, do you approve or disapprove of the performance of the US Congress?\", \"possible_responses\": [\"Approve\", \"Disapprove\", \"Neither Approve/Disapprove\"]}, {\"number\": 5, \"text\": \"When electing the United States president, do you think we should amend the Constitution to allow the candidate who receives the most votes to win, or do you think we should keep the current system where the candidate who wins the Electoral College vote wins?\", \"possible_responses\": [\"Amend the Constitution\", \"Keep the current system\"]}, {\"number\": 6, \"text\": \"At this point in time, do you approve or disapprove of Governor Greg Gianforte\\u2019s job performance?\", \"possible_responses\": [\"Approve\", \"Disapprove\", \"Neither Approve/Disapprove\"]}, {\"number\": 7, \"text\": \"Gianforte\\u2019s administration recently attempted to implement a rule banning transgender people from changing their designated sex status on their birth certificate. Do you think transgender people should be able to change the sex on their birth certificate?\", \"possible_responses\": [\"Yes\", \"No\", \"Neither Yes/No\"]}]\n"
     ]
    }
   ],
   "source": [
    "def create_questions_json(questions):\n",
    "    question_data = []\n",
    "    for question in questions:\n",
    "        question_data.append({\n",
    "            \"number\": question.number,\n",
    "            \"text\": question.question,\n",
    "            \"possible_responses\": question.possible_responses\n",
    "        })\n",
    "\n",
    "    json_string = json.dumps(question_data)\n",
    "    return json_string\n",
    "json_string = create_questions_json(questions[:7])\n",
    "print(json_string)"
   ]
  },
  {
   "cell_type": "markdown",
   "id": "92b682b0",
   "metadata": {},
   "source": [
    "# Initialize Survey Responses\n",
    "    - A survey response will each have\n",
    "        - Persona responding\n",
    "        - Dictionary of responses mapped to the question number\n",
    "            - Doing dictionary instead of list just in case of a failure of gpt to answer a question\n",
    "            - The indices will have correct values"
   ]
  },
  {
   "cell_type": "code",
   "execution_count": 15,
   "id": "2fd422a6",
   "metadata": {},
   "outputs": [],
   "source": [
    "import threading\n",
    "class SurveyResponse:\n",
    "    def __init__(self, person):\n",
    "        self.person = person\n",
    "        self.survey_responses = {}\n",
    "        self.lock = threading.Lock()  # Create a lock for synchronization\n",
    "\n",
    "\n",
    "    def ask_question(self, question):\n",
    "        global total_prompt_tokens, total_completion_tokens\n",
    "        # Load the Persona role and question\n",
    "        print(\"got here, qn\", question.number)\n",
    "        persona_role = GPT.open_file(f\"Prompts/Polling/persona_role.txt\").replace('<<PERSONA>>', str(self.person))\n",
    "        question_in = GPT.open_file(\"Prompts/Polling/question_in.txt\").replace('<<QUESTION>>', question.format_for_gpt())\n",
    "        \n",
    "        #print(persona_role, question_in)\n",
    "        try:\n",
    "            resp, usage = GPT.chat_gpt(question_in, engine = 'gpt-3.5-turbo' , role = persona_role, temp = 0.25, tokens = 300)\n",
    "            print(\"GPT ran\")\n",
    "        except:\n",
    "            resp = \"\"\n",
    "            usage = 0\n",
    "    \n",
    "        total_completion_tokens += usage['completion_tokens']\n",
    "        total_prompt_tokens += usage['prompt_tokens']\n",
    "    \n",
    "        with self.lock:  # Acquire the lock before modifying the dictionary\n",
    "            print(resp)\n",
    "            self.survey_responses[question.number] = resp\n",
    "        print(\"sv\",self.survey_responses[question.number])\n",
    "        \n",
    "    def __str__(self):\n",
    "        response_str = f\"Survey Response for: {self.person}\\n\"\n",
    "        response_str += \"Survey Responses:\\n\"\n",
    "        for question_number, response in self.survey_responses.items():\n",
    "            response_str += f\"Question {question_number}: {response}\\n\"\n",
    "        return response_str"
   ]
  },
  {
   "cell_type": "code",
   "execution_count": 16,
   "id": "d91f874e",
   "metadata": {},
   "outputs": [
    {
     "name": "stdout",
     "output_type": "stream",
     "text": [
      "Total Surveys: 343\n"
     ]
    }
   ],
   "source": [
    "SURVEY_RESPONSES = []\n",
    "for p in personas:\n",
    "    SURVEY_RESPONSES.append(SurveyResponse(p))\n",
    "print(\"Total Surveys:\", len(SURVEY_RESPONSES))"
   ]
  },
  {
   "cell_type": "markdown",
   "id": "d9c6fb93",
   "metadata": {},
   "source": [
    "# Conduct Survey to Personas"
   ]
  },
  {
   "cell_type": "markdown",
   "id": "63b8c05c",
   "metadata": {},
   "source": [
    "## Saving Function\n",
    "    - After each question, save data to be safe"
   ]
  },
  {
   "cell_type": "code",
   "execution_count": 17,
   "id": "7b8cc91e",
   "metadata": {},
   "outputs": [],
   "source": [
    "class SurveyResponseEncoder(json.JSONEncoder):\n",
    "    def default(self, obj):\n",
    "        if isinstance(obj, SurveyResponse):\n",
    "            return {\n",
    "                \"person\": obj.person,\n",
    "                \"survey_responses\": obj.survey_responses\n",
    "            }\n",
    "        return super().default(obj)"
   ]
  },
  {
   "cell_type": "code",
   "execution_count": 3,
   "id": "97e805d7",
   "metadata": {},
   "outputs": [
    {
     "ename": "NameError",
     "evalue": "name 'questions' is not defined",
     "output_type": "error",
     "traceback": [
      "\u001b[0;31m---------------------------------------------------------------------------\u001b[0m",
      "\u001b[0;31mNameError\u001b[0m                                 Traceback (most recent call last)",
      "Cell \u001b[0;32mIn[3], line 27\u001b[0m\n\u001b[1;32m     23\u001b[0m     total_prompt_tokens \u001b[38;5;241m+\u001b[39m\u001b[38;5;241m=\u001b[39m usage[\u001b[38;5;124m'\u001b[39m\u001b[38;5;124mprompt_tokens\u001b[39m\u001b[38;5;124m'\u001b[39m]\n\u001b[1;32m     25\u001b[0m     SURVEY_RESPONSE\u001b[38;5;241m.\u001b[39msurvey_responses[\u001b[38;5;28mstr\u001b[39m(question\u001b[38;5;241m.\u001b[39mnumber)] \u001b[38;5;241m=\u001b[39m resp\n\u001b[0;32m---> 27\u001b[0m \u001b[38;5;28;01mfor\u001b[39;00m question \u001b[38;5;129;01min\u001b[39;00m \u001b[43mquestions\u001b[49m:\n\u001b[1;32m     28\u001b[0m \u001b[38;5;66;03m#     if qc == 1:\u001b[39;00m\n\u001b[1;32m     29\u001b[0m \u001b[38;5;66;03m#         break\u001b[39;00m\n\u001b[1;32m     30\u001b[0m \u001b[38;5;66;03m#     qc += 1\u001b[39;00m\n\u001b[1;32m     31\u001b[0m     \u001b[38;5;66;03m# Create a thread pool executor with 10 workers\u001b[39;00m\n\u001b[1;32m     32\u001b[0m     \u001b[38;5;28mprint\u001b[39m(\u001b[38;5;124mf\u001b[39m\u001b[38;5;124m\"\u001b[39m\u001b[38;5;124mStarting Question: \u001b[39m\u001b[38;5;132;01m{\u001b[39;00m\u001b[38;5;28mstr\u001b[39m(question\u001b[38;5;241m.\u001b[39mnumber)\u001b[38;5;132;01m}\u001b[39;00m\u001b[38;5;130;01m\\n\u001b[39;00m\u001b[38;5;124m\"\u001b[39m)\n\u001b[1;32m     33\u001b[0m     \u001b[38;5;28;01mwith\u001b[39;00m concurrent\u001b[38;5;241m.\u001b[39mfutures\u001b[38;5;241m.\u001b[39mThreadPoolExecutor(max_workers\u001b[38;5;241m=\u001b[39m\u001b[38;5;241m10\u001b[39m) \u001b[38;5;28;01mas\u001b[39;00m executor:\n\u001b[1;32m     34\u001b[0m         \u001b[38;5;66;03m# Submit tasks to the executor for each persona\u001b[39;00m\n",
      "\u001b[0;31mNameError\u001b[0m: name 'questions' is not defined"
     ]
    }
   ],
   "source": [
    "qc = 0\n",
    "\n",
    "total_prompt_tokens = 0\n",
    "total_completion_tokens = 0\n",
    "\n",
    "# def ask_question_threaded(SURVEY_RESPONSE, question):\n",
    "#     SURVEY_RESPONSE.ask_question(question)\n",
    "    \n",
    "def ask_question_threaded(SURVEY_RESPONSE, question):  \n",
    "    global total_prompt_tokens, total_completion_tokens\n",
    "    # Load the Persona role and question\n",
    "    persona_role = GPT.open_file(f\"Prompts/Polling/persona_role.txt\").replace('<<PERSONA>>', str(SURVEY_RESPONSE.person))\n",
    "    question_in = GPT.open_file(\"Prompts/Polling/question_in.txt\").replace('<<QUESTION>>', question.format_for_gpt())\n",
    "\n",
    "    #print(persona_role, question_in)\n",
    "    try:\n",
    "        resp, usage = GPT.chat_gpt(question_in, engine = 'gpt-3.5-turbo' , role = persona_role, temp = 0.25, tokens = 250)\n",
    "    except:\n",
    "        resp = \"\"\n",
    "        usage = 0\n",
    "\n",
    "    total_completion_tokens += usage['completion_tokens']\n",
    "    total_prompt_tokens += usage['prompt_tokens']\n",
    "\n",
    "    SURVEY_RESPONSE.survey_responses[str(question.number)] = resp\n",
    "\n",
    "for question in questions:\n",
    "#     if qc == 1:\n",
    "#         break\n",
    "#     qc += 1\n",
    "    # Create a thread pool executor with 10 workers\n",
    "    print(f\"Starting Question: {str(question.number)}\\n\")\n",
    "    with concurrent.futures.ThreadPoolExecutor(max_workers=10) as executor:\n",
    "        # Submit tasks to the executor for each persona\n",
    "        futures = [executor.submit(ask_question_threaded, SURVEY_RESPONSE, question) for SURVEY_RESPONSE in SURVEY_RESPONSES]\n",
    "\n",
    "        # Wait for all tasks to complete\n",
    "        concurrent.futures.wait(futures)\n",
    "    \n",
    "        # Save responses as JSON\n",
    "    with open(\"survey_responses_343_gpt_4.json\", \"w\") as file:\n",
    "        json.dump(SURVEY_RESPONSES, file, cls=SurveyResponseEncoder, indent=4)\n",
    "\n",
    "print(\"Total Prompt Tokens:\", total_prompt_tokens)\n",
    "print(\"Total Completion Tokens:\", total_completion_tokens)\n",
    "print()\n",
    "print(\"Token Cost = $\", str((total_prompt_tokens+total_completion_tokens)/1000*0.002))"
   ]
  },
  {
   "cell_type": "code",
   "execution_count": 24,
   "id": "c19aa19e",
   "metadata": {},
   "outputs": [
    {
     "name": "stdout",
     "output_type": "stream",
     "text": [
      "50 1. {\"Reasoning\": \"As a conservative and a believer in individual responsibility, I believe that voting is an essential civic duty. I have voted consistently in the past and plan to vote in the 2022 midterm election. I prioritize researching the candidates' platforms and values to ensure they align with my own before casting my vote.\", \"Answer\": \"Yes\"}\n",
      "\n",
      "2. {\"Reasoning\": \"As a conservative and a supporter of smaller government, lower taxes, and individual freedom, I am generally not in favor of President Joe Biden's policies and actions. I believe that his policies will lead to increased government control and higher taxes. Therefore, I disapprove of his performance in office.\", \"Answer\": \"Disapprove\"}\n",
      "\n",
      "3. {\"Reasoning\": \"As a conservative, I am generally not in favor of government programs that provide financial assistance to individuals. While I sympathize with those who struggle with student loan debt, I do not believe that the government should use taxpayer money to forgive their loans. Therefore, I disapprove of Biden's student loan forgiveness plan.\", \"Answer\": \"Disapprove\"}\n",
      "\n",
      "4. {\"Reasoning\": \"As a conservative, I am generally not in favor of the actions of the US Congress. I believe that they tend to pass laws that increase government control and raise taxes, which goes against my values of smaller government, lower taxes, and individual freedom. Therefore, I disapprove of their performance.\", \"Answer\": \"Disapprove\"}\n",
      "\n",
      "5. {\"Reasoning\": \"As a conservative, I believe in upholding the Constitution and the principles upon which it was founded. I believe that the current system of the Electoral College ensures that all states have a say in the election and prevents larger states from having too much influence. Therefore, I think we should keep the current system where the candidate who wins the Electoral College vote wins.\", \"Answer\": \"Keep the current system\"}\n",
      "\n",
      "6. {\"Reasoning\": \"As a resident of Montana, I have been following Governor Greg Gianforte's performance in office. I generally support his conservative policies, such as his focus on economic growth and job creation. Therefore, I approve of his job performance.\", \"Answer\": \"Approve\"}\n",
      "\n",
      "7. {\"Reasoning\": \"As a conservative, I believe in individual freedom and personal responsibility. I believe that transgender people should have the right to change the sex on their birth certificate if they choose to do so. Banning them from doing so would be a violation of their individual freedom and would not align with my values.\", \"Answer\": \"Yes\"}\n",
      "Total Prompt Tokens: 1191\n",
      "Total Completion Tokens: 514\n",
      "\n",
      "Prompt Cost = $ 0.03573\n",
      "Completion Cost = $ 0.03084\n",
      "Total Cost = $ 0.06656999999999999\n"
     ]
    }
   ],
   "source": [
    "responses = []\n",
    "\n",
    "total_prompt_tokens = 0\n",
    "total_completion_tokens = 0\n",
    "def thread_func(i):\n",
    "    global total_prompt_tokens, total_completion_tokens\n",
    "    persona_role = GPT.open_file(f\"Prompts/Polling/persona_gpt.txt\").replace('<<PERSONA>>', str(personas[i]))\n",
    "    question_in = GPT.open_file(\"Prompts/Polling/multi_question.txt\").replace('<<QUESTION>>', json_string)\n",
    "    \n",
    "    try:\n",
    "        resp, usage = GPT.chat_gpt(question_in, engine = 'gpt-3.5-turbo' , role = persona_role, temp = 0.6, tokens = 2048)\n",
    "    except:\n",
    "        return \"\",0\n",
    "    total_completion_tokens += usage['completion_tokens']\n",
    "    total_prompt_tokens += usage['prompt_tokens']\n",
    "    print(i, resp)\n",
    "    return resp\n",
    "\n",
    "with concurrent.futures.ThreadPoolExecutor(max_workers=10) as executor:\n",
    "    responses = list(executor.map(thread_func, range(50,51)))\n",
    "\n",
    "print(\"Total Prompt Tokens:\", total_prompt_tokens)\n",
    "print(\"Total Completion Tokens:\", total_completion_tokens)\n",
    "print()\n",
    "prompt_cost = (total_prompt_tokens)/1000*0.03\n",
    "completion_cost = (total_completion_tokens)/1000*0.06\n",
    "print(\"Prompt Cost = $\", str(prompt_cost))\n",
    "print(\"Completion Cost = $\", str(completion_cost))\n",
    "print(\"Total Cost = $\", str(prompt_cost + completion_cost))"
   ]
  },
  {
   "cell_type": "markdown",
   "id": "354f035d",
   "metadata": {},
   "source": [
    "# Analyze Results"
   ]
  },
  {
   "cell_type": "code",
   "execution_count": 44,
   "id": "b9f3ed3c",
   "metadata": {},
   "outputs": [],
   "source": [
    "resps_out = {}\n",
    "for i in range(len(questions)):\n",
    "    resps_out[i+1] = []\n",
    "\n",
    "for i in range(len(questions)):\n",
    "    for s in SURVEY_RESPONSES:\n",
    "        \n",
    "        try:\n",
    "            resp_data = json.loads(s.survey_responses[str(i+1)])\n",
    "            resp_val = resp_data['Answer']\n",
    "            resps_out[i+1].append(resp_val)   \n",
    "        except Exception as e:\n",
    "            print(\"Invalid Format\", str(e))\n",
    "            continue"
   ]
  },
  {
   "cell_type": "code",
   "execution_count": 50,
   "id": "94840e4f",
   "metadata": {},
   "outputs": [],
   "source": [
    "def count_responses(responses):\n",
    "    # Count occurrences of each unique value\n",
    "    counts = {}\n",
    "    total_responses = len(responses)\n",
    "\n",
    "    for response in responses:\n",
    "        if response not in counts:\n",
    "            counts[response] = 0\n",
    "        counts[response] += 1\n",
    "\n",
    "    # Print counts and percentages\n",
    "    print(\"Counts of each response:\")\n",
    "    for response, count in counts.items():\n",
    "        percentage = (count / total_responses) * 100\n",
    "        print(f\"{response}: {count} ({percentage:.2f}%)\")"
   ]
  },
  {
   "cell_type": "code",
   "execution_count": 51,
   "id": "d669362e",
   "metadata": {},
   "outputs": [
    {
     "name": "stdout",
     "output_type": "stream",
     "text": [
      "Counts of each response:\n",
      "Yes: 3 (100.00%)\n",
      "\n",
      "Counts of each response:\n",
      "Disapprove: 1 (33.33%)\n",
      "Approve: 2 (66.67%)\n",
      "\n",
      "Counts of each response:\n",
      "Disapprove: 2 (66.67%)\n",
      "Approve: 1 (33.33%)\n",
      "\n",
      "Counts of each response:\n",
      "Neither Approve/Disapprove: 2 (66.67%)\n",
      "Disapprove: 1 (33.33%)\n",
      "\n",
      "Counts of each response:\n",
      "Keep the current system: 3 (100.00%)\n",
      "\n",
      "Counts of each response:\n",
      "Approve: 3 (100.00%)\n",
      "\n",
      "Counts of each response:\n",
      "Yes: 3 (100.00%)\n",
      "\n",
      "Counts of each response:\n",
      "District 1: 2 (66.67%)\n",
      "Don't Know: 1 (33.33%)\n",
      "\n",
      "Counts of each response:\n",
      "Zinke (R): 2 (66.67%)\n",
      "Don't Know: 1 (33.33%)\n",
      "\n",
      "Counts of each response:\n",
      "Approve: 3 (100.00%)\n",
      "\n",
      "Counts of each response:\n",
      "Rosendale (R): 2 (66.67%)\n",
      "I would need to research and understand the candidates and their platforms before making a decision on who to support. At this time, I do not have enough information to choose a candidate.: 1 (33.33%)\n",
      "\n",
      "Counts of each response:\n",
      "Approve: 3 (100.00%)\n",
      "\n",
      "Counts of each response:\n",
      "Approve: 2 (66.67%)\n",
      "Neither Approve/Disapprove: 1 (33.33%)\n",
      "\n",
      "Counts of each response:\n",
      "Distrust: 2 (66.67%)\n",
      "Neither Trust/Distrust: 1 (33.33%)\n",
      "\n",
      "Counts of each response:\n",
      "Trust: 2 (66.67%)\n",
      "Neither Trust/Distrust: 1 (33.33%)\n",
      "\n",
      "Counts of each response:\n",
      "Yes: 3 (100.00%)\n",
      "\n",
      "Counts of each response:\n",
      "Yes: 3 (100.00%)\n",
      "\n",
      "Counts of each response:\n",
      "Agree: 3 (100.00%)\n",
      "\n",
      "Counts of each response:\n",
      "Agree: 3 (100.00%)\n",
      "\n",
      "Counts of each response:\n",
      "Agree: 1 (33.33%)\n",
      "Neither Agree/Disagree: 2 (66.67%)\n",
      "\n",
      "Counts of each response:\n",
      "Neither Agree/Disagree: 2 (66.67%)\n",
      "Disagree: 1 (33.33%)\n",
      "\n",
      "Counts of each response:\n",
      "Agree: 3 (100.00%)\n",
      "\n",
      "Counts of each response:\n",
      "Agree: 2 (66.67%)\n",
      "Disagree: 1 (33.33%)\n",
      "\n",
      "Counts of each response:\n",
      "Pro-life: 2 (66.67%)\n",
      "Pro-choice: 1 (33.33%)\n",
      "\n",
      "Counts of each response:\n",
      "Disagree: 3 (100.00%)\n",
      "\n",
      "Counts of each response:\n",
      "Agree: 1 (33.33%)\n",
      "Disagree: 2 (66.67%)\n",
      "\n",
      "Counts of each response:\n",
      "Agree: 2 (66.67%)\n",
      "Disagree: 1 (33.33%)\n",
      "\n",
      "Counts of each response:\n",
      "Distrust: 1 (33.33%)\n",
      "Neither Trust/Distrust: 2 (66.67%)\n",
      "\n"
     ]
    }
   ],
   "source": [
    "for i, resp in resps_out.items():\n",
    "    count_responses(resp)\n",
    "    print()"
   ]
  },
  {
   "cell_type": "code",
   "execution_count": null,
   "id": "aab7f411",
   "metadata": {},
   "outputs": [],
   "source": []
  },
  {
   "cell_type": "markdown",
   "id": "02542722",
   "metadata": {},
   "source": [
    "# Process Responses"
   ]
  },
  {
   "cell_type": "code",
   "execution_count": 94,
   "id": "7658319a",
   "metadata": {},
   "outputs": [],
   "source": [
    "def person_to_string(person):\n",
    "    persona_string = []\n",
    "    for key, value in person.items():\n",
    "        # Some keys require specific phrasing to form a directive sentence\n",
    "        if key == 'Name':\n",
    "            persona_string.append(f\"Your name is {value}.\")\n",
    "        elif key == 'Age':\n",
    "            persona_string.append(f\"You are {value} years old.\")\n",
    "        elif key == 'Ethnicity':\n",
    "            persona_string.append(f\"You identify as {value}.\")\n",
    "        elif key == 'Gender':\n",
    "            persona_string.append(f\"You are a {value} individual.\")\n",
    "        elif key == 'Income':\n",
    "            persona_string.append(f\"You make an annual income of around {value} USD.\")\n",
    "        elif key == 'Education Level':\n",
    "            persona_string.append(f\"Your highest level of education is {value}.\")\n",
    "        elif key == 'Political Affiliation':\n",
    "            persona_string.append(f\"You lean towards the {value} politically.\")\n",
    "        elif key == 'Geographic Location':\n",
    "            persona_string.append(f\"You currently live in {value}.\")\n",
    "        elif key == 'Veteran Status':\n",
    "            persona_string.append(f\"You are {value}.\")\n",
    "        elif key == 'Occupation':\n",
    "            persona_string.append(f\"You work as a {value}.\")\n",
    "        else:\n",
    "            # The remaining keys don't require specific phrasing, so we can just add their values\n",
    "            # These are written in first person so we can use them directly\n",
    "            persona_string.append(value)\n",
    "    \n",
    "    # Join all elements of persona_string into a single string, separated by space\n",
    "    return \" \".join(persona_string)"
   ]
  },
  {
   "cell_type": "code",
   "execution_count": null,
   "id": "c58d17c0",
   "metadata": {},
   "outputs": [],
   "source": []
  }
 ],
 "metadata": {
  "kernelspec": {
   "display_name": "Python 3 (ipykernel)",
   "language": "python",
   "name": "python3"
  },
  "language_info": {
   "codemirror_mode": {
    "name": "ipython",
    "version": 3
   },
   "file_extension": ".py",
   "mimetype": "text/x-python",
   "name": "python",
   "nbconvert_exporter": "python",
   "pygments_lexer": "ipython3",
   "version": "3.9.16"
  }
 },
 "nbformat": 4,
 "nbformat_minor": 5
}
